{
  "nbformat": 4,
  "nbformat_minor": 0,
  "metadata": {
    "colab": {
      "name": "20220328.ipynb",
      "provenance": [],
      "authorship_tag": "ABX9TyNmnha7HwZS3FVf5lHt1JYa",
      "include_colab_link": true
    },
    "kernelspec": {
      "name": "python3",
      "display_name": "Python 3"
    },
    "language_info": {
      "name": "python"
    }
  },
  "cells": [
    {
      "cell_type": "markdown",
      "metadata": {
        "id": "view-in-github",
        "colab_type": "text"
      },
      "source": [
        "<a href=\"https://colab.research.google.com/github/yuneun92/class2022Spring/blob/main/20220328.ipynb\" target=\"_parent\"><img src=\"https://colab.research.google.com/assets/colab-badge.svg\" alt=\"Open In Colab\"/></a>"
      ]
    },
    {
      "cell_type": "code",
      "execution_count": null,
      "metadata": {
        "id": "jApbqwezvaNz"
      },
      "outputs": [],
      "source": [
        "!pip install gradio\n",
        "import gradio as gr\n",
        "import requests\n",
        "import pandas as pd\n"
      ]
    },
    {
      "cell_type": "code",
      "source": [
        "def street_sns(street_name):\n",
        "  URL= ('http://apis.data.go.kr/3130000/openapi/sns/getsns?serviceKey=lHPblT40dU9S2SswtiaKN3L6TL0Ml1WD6PHyeGIH54ksJdrVe4Uyal6PqUvY6jPHvcp5MjIVvhFQOX98Y7FYkQ%3D%3D&type=json&filterKey=addr&filterValues='+street_name+'&numOfRows=200&pageNo=1')\n",
        "\n",
        "  respond = requests.get(URL)\n",
        "  r=respond.json()\n",
        "  items=r['items']\n",
        "  negative=[item ['negative']for item in items ]\n",
        "  positive=[item ['positive']for item in items ]\n",
        "  neutral=[item ['neutral']for item in items ]\n",
        "  date=[item ['date']for item in items ]\n",
        "\n",
        "  negative=pd.Series(negative)\n",
        "  positive=pd.Series(positive)\n",
        "  neutral=pd.Series(neutral)\n",
        "  df=pd.DataFrame({'날짜': date, '긍정어':positive, '부정어':negative, '중립어':neutral})\n",
        "\n",
        "  return df"
      ],
      "metadata": {
        "id": "myHm9aZ0vwiu"
      },
      "execution_count": 2,
      "outputs": []
    },
    {
      "cell_type": "code",
      "source": [
        "iface = gr.Interface(street_sns, gr.inputs.Dropdown(['연트럴파크', '홍통거리', '홍대 걷고 싶은 거리', '홍대 주차장 골목', '망원시장','망리단길','하늘공원','월드컵공원', '용강동 음식문화거리']), outputs=['dataframe'])\n",
        "iface.launch(debug=True)\n",
        "\n",
        "\n"
      ],
      "metadata": {
        "colab": {
          "base_uri": "https://localhost:8080/",
          "height": 595
        },
        "id": "vB_F3S9H45L6",
        "outputId": "02a9f624-7cb3-4f00-a6de-22c0b11c62ed"
      },
      "execution_count": null,
      "outputs": [
        {
          "output_type": "stream",
          "name": "stdout",
          "text": [
            "Colab notebook detected. This cell will run indefinitely so that you can see errors and logs. To turn off, set debug=False in launch().\n",
            "Running on public URL: https://51080.gradio.app\n",
            "\n",
            "This share link expires in 72 hours. For free permanent hosting, check out Spaces (https://huggingface.co/spaces)\n"
          ]
        },
        {
          "output_type": "display_data",
          "data": {
            "text/plain": [
              "<IPython.lib.display.IFrame at 0x7fcbf38b36d0>"
            ],
            "text/html": [
              "\n",
              "        <iframe\n",
              "            width=\"900\"\n",
              "            height=\"500\"\n",
              "            src=\"https://51080.gradio.app\"\n",
              "            frameborder=\"0\"\n",
              "            allowfullscreen\n",
              "        ></iframe>\n",
              "        "
            ]
          },
          "metadata": {}
        }
      ]
    },
    {
      "cell_type": "code",
      "source": [
        ""
      ],
      "metadata": {
        "id": "CtdRXkee-ihH"
      },
      "execution_count": null,
      "outputs": []
    }
  ]
}
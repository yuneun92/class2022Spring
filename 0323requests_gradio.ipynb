{
  "nbformat": 4,
  "nbformat_minor": 0,
  "metadata": {
    "colab": {
      "name": "requests_gradio.ipynb",
      "provenance": [],
      "include_colab_link": true
    },
    "kernelspec": {
      "name": "python3",
      "display_name": "Python 3"
    },
    "language_info": {
      "name": "python"
    }
  },
  "cells": [
    {
      "cell_type": "markdown",
      "metadata": {
        "id": "view-in-github",
        "colab_type": "text"
      },
      "source": [
        "<a href=\"https://colab.research.google.com/github/yuneun92/class2022Spring/blob/main/0323requests_gradio.ipynb\" target=\"_parent\"><img src=\"https://colab.research.google.com/assets/colab-badge.svg\" alt=\"Open In Colab\"/></a>"
      ]
    },
    {
      "cell_type": "markdown",
      "source": [
        "0323.영어음성학응용\n",
        "\n",
        "#**API(Application Programming Interface)**\n",
        "\n",
        "###**- API란?**\n",
        "\n",
        "다른 곳에 깔려있는 서비스를 내 컴퓨터에서 실행할 때, **개발자**가 다른 서버/컴퓨터/DB에 있는 서비스에 연결해주는 것. 예를 들어, 미세먼지 농도를 나타내는 서비스를 이용한다고 해보자. 이러한 정보는 공공API(공공데이터)로 제공된다. 이외에도 카카오, 네이버 등에도 API가 있다(자동번역기, 음성인식 등). 이를 가져와서 나의 프로그램 속에 포함시킬 수 있게 해주는 것이 API다.\n",
        "\n",
        "API의 규약 중 요즘 많이 쓰는, 대표적인 유형이 REST 유형이다. API의 대표적인 데이터포멧으로는 JSON과 XML 등이 있다. 즉 데이터를 줄 때(보통 텍스트 정보), 어떤 형식으로 줄 것인지를 결정할 수 있다.\n",
        "\n",
        "- 사용 가능한 API: 공공데이터(data.go.kr), 네이버 오픈 API, 카카오(developers.kakao.com)\n",
        "\n",
        "- 요청변수(Request Parameter): 출력 방식을 입력으로 주는 것. 서비스마다 다름. \n",
        "  - 서비스키: 암호키. 활용 가이드에 나와있는 요청키를 **requests.get()**의 변수로 넣어주면 됨\n",
        "\n",
        "- API 서비스를 가져오는 라이브러리가 '**requests**'.\n"
      ],
      "metadata": {
        "id": "tuTc3Q-Sy6OE"
      }
    },
    {
      "cell_type": "code",
      "source": [
        "!pip install gradio\n",
        "import gradio as gr\n",
        "import requests\n",
        "import pandas as pd"
      ],
      "metadata": {
        "id": "8eZHGJhmqd9a"
      },
      "execution_count": null,
      "outputs": []
    },
    {
      "cell_type": "code",
      "source": [
        ""
      ],
      "metadata": {
        "id": "eBw7o-SD4A2W"
      },
      "execution_count": null,
      "outputs": []
    },
    {
      "cell_type": "code",
      "source": [
        "URL = ('http://apis.data.go.kr/B552584/ArpltnStatsSvc/'  #서비스URL\n",
        "      'getCtprvnMesureSidoLIst?'                         #상세기능명(영문)?\n",
        "      'sidoName=서울'                                    #아래는 요청메시지(시도명, 시간, page number 등등..)\n",
        "      '&searchCondition=hour'\n",
        "      '&pageNo=1'\n",
        "      '&numOfRows=100'\n",
        "      '&returnType=json'                                 #리턴타입은 JSON\n",
        "      '&serviceKey=miH%2BZXg85lQy4%2FkmhffvygXDIFiTwisriSLxtyECSzw6hxTVK7yI8QKIOc7mP7LEqCnhBGuj6iW1gZW65dum7A%3D%3D')\n",
        "response = requests.get(URL)"
      ],
      "metadata": {
        "id": "lHHEwqpyJF7r"
      },
      "execution_count": 3,
      "outputs": []
    },
    {
      "cell_type": "code",
      "source": [
        "response #<Response [200]>로 나오면 성공적으로 들어간 것"
      ],
      "metadata": {
        "id": "ESTfS9zv6rBJ",
        "outputId": "e428d49a-3c58-451e-931c-6a3a94184753",
        "colab": {
          "base_uri": "https://localhost:8080/"
        }
      },
      "execution_count": 6,
      "outputs": [
        {
          "output_type": "execute_result",
          "data": {
            "text/plain": [
              "<Response [200]>"
            ]
          },
          "metadata": {},
          "execution_count": 6
        }
      ]
    },
    {
      "cell_type": "markdown",
      "source": [
        "#### http://jsonviewer.stack.hu/ (copy json here to view json)"
      ],
      "metadata": {
        "id": "faIENRyFfnY1"
      }
    },
    {
      "cell_type": "code",
      "source": [
        "#내용 받는 법\n",
        "r = response.json()  #json에 받기로 했으므로 반드시 명시해야 함\n",
        "r  #dict 형식. 아래의 출력값이 보기 어려우면 이를 위 링크에 넣어서 쉽게 볼 수 있음"
      ],
      "metadata": {
        "id": "JcLKwg0foR9p"
      },
      "execution_count": null,
      "outputs": []
    },
    {
      "cell_type": "code",
      "source": [
        "items = r['response']['body']['items']\n",
        "\n",
        "cityName = [item['cityName'] for item in items] #list comprehension\n",
        "pm10Value = [item['pm10Value'] for item in items]\n",
        "pm25Value = [item['pm25Value'] for item in items]\n",
        "so2Value = [item['so2Value'] for item in items]\n",
        "coValue = [item['coValue'] for item in items]\n",
        "o3Value = [item['o3Value'] for item in items]\n",
        "no2Value = [item['no2Value'] for item in items]\n",
        "\n",
        "pd_cityName = pd.Series(cityName)\n",
        "pd_pm10Value = pd.Series(pm10Value)   \n",
        "pd_pm25Value = pd.Series(pm25Value)\n",
        "so2Value = pd.Series(so2Value)\n",
        "coValue = pd.Series(coValue)\n",
        "o3Value = pd.Series(o3Value)\n",
        "no2Value = pd.Series(no2Value)\n",
        "\n",
        "df = pd.DataFrame({ 'cityName': cityName, 'pm10Value': pm10Value, 'pm25Value': pm25Value, 'so2Value': so2Value, 'coValue': coValue, 'o3Value': o3Value, 'no2Value': no2Value})"
      ],
      "metadata": {
        "id": "W8lA0-IzE55W"
      },
      "execution_count": 8,
      "outputs": []
    },
    {
      "cell_type": "code",
      "source": [
        "df"
      ],
      "metadata": {
        "id": "qgL4Xved-65f"
      },
      "execution_count": null,
      "outputs": []
    },
    {
      "cell_type": "code",
      "source": [
        "def test(sidoName):\n",
        "  URL = ('http://apis.data.go.kr/B552584/ArpltnStatsSvc/'\n",
        "      'getCtprvnMesureSidoLIst?'\n",
        "      'sidoName='+sidoName+\n",
        "      '&searchCondition=hour'\n",
        "      '&pageNo=1'\n",
        "      '&numOfRows=100'\n",
        "      '&returnType=json'\n",
        "      '&serviceKey=miH%2BZXg85lQy4%2FkmhffvygXDIFiTwisriSLxtyECSzw6hxTVK7yI8QKIOc7mP7LEqCnhBGuj6iW1gZW65dum7A%3D%3D')\n",
        "  \n",
        "  response = requests.get(URL)\n",
        "  r = response.json()\n",
        "  items = r['response']['body']['items']\n",
        "\n",
        "  cityName = [item['cityName'] for item in items]\n",
        "  pm10Value = [item['pm10Value'] for item in items]\n",
        "  pm25Value = [item['pm25Value'] for item in items]\n",
        "  so2Value = [item['so2Value'] for item in items]\n",
        "  coValue = [item['coValue'] for item in items]\n",
        "  o3Value = [item['o3Value'] for item in items]\n",
        "  no2Value = [item['no2Value'] for item in items]\n",
        "\n",
        "  pd_cityName = pd.Series(cityName)\n",
        "  pd_pm10Value = pd.Series(pm10Value)   \n",
        "  pd_pm25Value = pd.Series(pm25Value)\n",
        "  so2Value = pd.Series(so2Value)\n",
        "  coValue = pd.Series(coValue)\n",
        "  o3Value = pd.Series(o3Value)\n",
        "  no2Value = pd.Series(no2Value)\n",
        "\n",
        "  df = pd.DataFrame({ 'cityName': cityName, 'pm10Value': pm10Value, 'pm25Value': pm25Value, 'so2Value': so2Value, 'coValue': coValue, 'o3Value': o3Value, 'no2Value': no2Value})\n",
        "  return df"
      ],
      "metadata": {
        "id": "xa2Gb_qsm_G5"
      },
      "execution_count": 9,
      "outputs": []
    },
    {
      "cell_type": "code",
      "source": [
        "iface = gr.Interface(test, gr.inputs.Dropdown(['서울', '부산', '대구', '인천', '광주', '대전', '울산', '경기', '강원', '충북', '충남', '전북', '전남', '경북', '경남', '제주', '세종']), outputs=['dataframe'])\n",
        "iface.launch(debug=True)"
      ],
      "metadata": {
        "id": "kxORJVPOnDSP",
        "outputId": "aaa976c5-95f3-4a30-d063-75a81db8d893",
        "colab": {
          "base_uri": "https://localhost:8080/",
          "height": 595
        }
      },
      "execution_count": null,
      "outputs": [
        {
          "output_type": "stream",
          "name": "stdout",
          "text": [
            "Colab notebook detected. This cell will run indefinitely so that you can see errors and logs. To turn off, set debug=False in launch().\n",
            "Running on public URL: https://43275.gradio.app\n",
            "\n",
            "This share link expires in 72 hours. For free permanent hosting, check out Spaces (https://huggingface.co/spaces)\n"
          ]
        },
        {
          "output_type": "display_data",
          "data": {
            "text/plain": [
              "<IPython.lib.display.IFrame at 0x7fd323e588d0>"
            ],
            "text/html": [
              "\n",
              "        <iframe\n",
              "            width=\"900\"\n",
              "            height=\"500\"\n",
              "            src=\"https://43275.gradio.app\"\n",
              "            frameborder=\"0\"\n",
              "            allowfullscreen\n",
              "        ></iframe>\n",
              "        "
            ]
          },
          "metadata": {}
        }
      ]
    }
  ]
}
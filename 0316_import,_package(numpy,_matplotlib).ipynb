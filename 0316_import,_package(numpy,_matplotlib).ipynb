{
  "nbformat": 4,
  "nbformat_minor": 0,
  "metadata": {
    "colab": {
      "name": "0316_import, package(numpy, matplotlib).ipynb",
      "provenance": [],
      "collapsed_sections": [],
      "authorship_tag": "ABX9TyNFRonm8osDlh3rA+hIYOF8",
      "include_colab_link": true
    },
    "kernelspec": {
      "name": "python3",
      "display_name": "Python 3"
    },
    "language_info": {
      "name": "python"
    }
  },
  "cells": [
    {
      "cell_type": "markdown",
      "metadata": {
        "id": "view-in-github",
        "colab_type": "text"
      },
      "source": [
        "<a href=\"https://colab.research.google.com/github/yuneun92/class2022Spring/blob/main/0316_import%2C_package(numpy%2C_matplotlib).ipynb\" target=\"_parent\"><img src=\"https://colab.research.google.com/assets/colab-badge.svg\" alt=\"Open In Colab\"/></a>"
      ]
    },
    {
      "cell_type": "markdown",
      "source": [
        "#**Package**\n",
        "- built_in package\n",
        "- import package: ram에 저장되어 있는 패키지로, import 해야 함. \n",
        "- install package: 새롭게 깔아야 함. \n",
        "\n",
        "\n"
      ],
      "metadata": {
        "id": "0MTGPFy18BJs"
      }
    },
    {
      "cell_type": "code",
      "source": [
        "import numpy \n",
        "import pandas\n",
        "import matplotlib\n",
        "import seaborn\n",
        "import sklearn\n",
        "import requests\n",
        "import urllib3\n",
        "import nltk\n",
        "import PIL\n",
        "import pytest\n",
        "import librosa"
      ],
      "metadata": {
        "id": "tyCj8kEAERon"
      },
      "execution_count": null,
      "outputs": []
    },
    {
      "cell_type": "markdown",
      "source": [
        "### Various Ways of \"IMPORT\""
      ],
      "metadata": {
        "id": "4Jfr_jIGG5WX"
      }
    },
    {
      "cell_type": "code",
      "source": [
        "# 패키지 전체를 불러오기\n",
        "import numpy\n",
        "\n",
        "# 패키지를 별명으로 불러오기\n",
        "import numpy as np\n",
        "\n",
        "# 패키지의 특정 디렉토리만 불러오기(선호되는 방법은 아님)\n",
        "import numpy.random\n",
        "from numpy import random \n",
        "  # 이 경우 numpy.random.randn이 아니라 random.randn과 같은 식으로 패키지 작성을 생략 가능\n",
        "\n",
        "# 패키지의 특정 디렉토리를 별명으로 불러오기\n",
        "import matplotlib.pyplot as plt\n",
        "\n",
        "# 특정 함수만 불러오기\n",
        "from matplotlib.pyplot import hist\n"
      ],
      "metadata": {
        "id": "lJmz1biADX4p"
      },
      "execution_count": null,
      "outputs": []
    },
    {
      "cell_type": "markdown",
      "source": [
        "__________________"
      ],
      "metadata": {
        "id": "T0eunvWtNyEU"
      }
    },
    {
      "cell_type": "markdown",
      "source": [
        "###**1. Numpy(Numerical Python)**\n",
        "\n",
        "벡터 및 행렬 연산에 있어서 매우 편리한 기능을 제공하는 패키지.\n",
        "\n",
        "또한 이는 데이터분석을 할 때 사용되는 라이브러리인 pandas와 matplotlib의 기반으로 사용되기도 한다.\n",
        "\n",
        "numpy에서는 기본적으로 array라는 단위로 데이터를 관리하며 이에 대해 연산을 수행하며 여기서 array는 행렬(matrix)로, 직사각형 모양의 숫자 배열이다. \n",
        "\n",
        "- 기능: 난수, 행렬, 간단한 통계 처리(수치적인 것 할 때 필수적) \n",
        "\n"
      ],
      "metadata": {
        "id": "lIzwq145Ctij"
      }
    },
    {
      "cell_type": "code",
      "source": [
        "numpy.random.randn(5)"
      ],
      "metadata": {
        "colab": {
          "base_uri": "https://localhost:8080/"
        },
        "id": "cUS0SAqVDhLO",
        "outputId": "4ff5b7e1-617a-470b-f718-4b66c746f773"
      },
      "execution_count": null,
      "outputs": [
        {
          "output_type": "execute_result",
          "data": {
            "text/plain": [
              "array([-0.47716519,  0.26877565, -0.82718637, -0.10610625,  0.35694691])"
            ]
          },
          "metadata": {},
          "execution_count": 3
        }
      ]
    },
    {
      "cell_type": "code",
      "source": [
        "n = np.random.randn(100)\n",
        "print(n)"
      ],
      "metadata": {
        "colab": {
          "base_uri": "https://localhost:8080/"
        },
        "id": "Y2X8INCeDza4",
        "outputId": "77103119-c3aa-42fb-c527-10c94ad3e57f"
      },
      "execution_count": null,
      "outputs": [
        {
          "output_type": "stream",
          "name": "stdout",
          "text": [
            "[ 1.0601938   0.47971304 -2.13818233 -0.803026    0.01743971 -0.77411317\n",
            "  0.30709434 -0.05978087  0.31674914  0.89354873 -0.01491867 -0.79237299\n",
            "  0.78386046 -0.37919837 -1.09738584 -2.20419547  0.59618085  0.31599914\n",
            " -0.19620589  2.33171954  0.73480497  0.90679829 -0.29281938  0.62394803\n",
            "  0.25264718 -0.08900497  0.69177011  0.78867141  0.0431225  -0.51366103\n",
            " -1.47174593  0.55419062 -0.23990213 -0.13579935  0.08079426 -1.90860843\n",
            "  1.19220006 -0.65398721  0.34752857 -0.34570221  0.77655587  0.51529206\n",
            "  0.1100546   0.08154483  1.18903491  0.68161183 -0.46269085 -0.64726275\n",
            "  0.2649042  -0.78296648 -0.10141591 -0.36876983  0.59751393 -0.62667669\n",
            "  0.41987651  1.79734359 -0.97074056 -0.40362834  0.54245008  0.45570545\n",
            " -0.6553324  -0.44742911  1.77118951 -1.08525125 -0.63216396  1.05622441\n",
            "  1.19608139  0.0155697   1.32204867 -1.3205998   0.0432061   0.52359165\n",
            "  0.40859732 -0.69784653 -0.1981018  -0.7313207  -0.5619431   0.61349992\n",
            " -0.86323785  0.55718614  0.84246089 -1.02350388 -1.08983764 -1.23113134\n",
            "  0.98962691 -0.54121138  0.67824629 -0.77575668 -0.12225438 -1.17710722\n",
            "  0.70692962 -0.53064779 -2.04937904  0.85938014 -0.90363678 -0.03388973\n",
            "  0.41323183  1.20673244  0.11014019 -1.34041265]\n"
          ]
        }
      ]
    },
    {
      "cell_type": "markdown",
      "source": [
        "###**Create nd arrays**\n",
        "\n",
        "- nd arrays = n dimensional arrays.\n",
        "- (row, column): 행(row)는 수평(가로), 열(colum)은 수직(세로)\n"
      ],
      "metadata": {
        "id": "0QC-kddTHsrY"
      }
    },
    {
      "cell_type": "code",
      "source": [
        "import numpy as np"
      ],
      "metadata": {
        "id": "iX40YfAIHsOn"
      },
      "execution_count": null,
      "outputs": []
    },
    {
      "cell_type": "code",
      "source": [
        "# 원소를 직접 나열하여 array 만들기\n",
        "\n",
        "x = np.array([1, 2, 3])\n",
        "print(x)\n",
        "print(type(x))\n",
        "print(x.shape)"
      ],
      "metadata": {
        "colab": {
          "base_uri": "https://localhost:8080/"
        },
        "id": "SEgtIUR4D_qM",
        "outputId": "c381e778-d9fd-4713-8444-5843add26555"
      },
      "execution_count": null,
      "outputs": [
        {
          "output_type": "stream",
          "name": "stdout",
          "text": [
            "[1 2 3]\n",
            "<class 'numpy.ndarray'>\n",
            "(3,)\n"
          ]
        }
      ]
    },
    {
      "cell_type": "code",
      "source": [
        "# array 속 숫자의 간격을 제시해 array 만들기\n",
        "\n",
        "x = np.arange(0, 10, 2) # 0 포함, 10 전까지 2의 increment\n",
        "print(x)\n",
        "print(type(x))\n",
        "print(x.shape)"
      ],
      "metadata": {
        "colab": {
          "base_uri": "https://localhost:8080/"
        },
        "id": "fyj_a0yhIiuL",
        "outputId": "7ecb1b8e-9ddb-41b2-e71e-30bdaa064690"
      },
      "execution_count": null,
      "outputs": [
        {
          "output_type": "stream",
          "name": "stdout",
          "text": [
            "[0 2 4 6 8]\n",
            "<class 'numpy.ndarray'>\n",
            "(5,)\n"
          ]
        }
      ]
    },
    {
      "cell_type": "code",
      "source": [
        "# array의 인자의 개수를 제시해 array 만들기\n",
        "\n",
        "x = np.linspace(0, 10, 6) # 0 포함, 10까지 linear하게(등간격으로) 숫자 만들기\n",
        "print(x)\n",
        "print(type(x))\n",
        "print(x.shape)"
      ],
      "metadata": {
        "colab": {
          "base_uri": "https://localhost:8080/"
        },
        "id": "QptyAVUyI5aS",
        "outputId": "441c6897-a8e3-4dc9-d0c1-02c917d2c495"
      },
      "execution_count": null,
      "outputs": [
        {
          "output_type": "stream",
          "name": "stdout",
          "text": [
            "[ 0.  2.  4.  6.  8. 10.]\n",
            "<class 'numpy.ndarray'>\n",
            "(6,)\n"
          ]
        }
      ]
    },
    {
      "cell_type": "code",
      "source": [
        "# creating ndarray\n",
        "  ## 한 개 이상의 리스트가 함수의 인자로 들어감. 전체를 하나의 큰 리스트로 묶어줘야 함\n",
        "  ## 리스트의 개수에 따라 차원이 결정됨(가장 왼쪽의 대괄호 중첩의 개수로 알 수 있음)\n",
        "\n",
        "x = np.array([[1, 2, 3], [4, 5, 6]]) \n",
        "print(\"X\")\n",
        "print(x)\n",
        "print(type(x))\n",
        "print(x.shape)\n",
        "\n",
        "print('\\n', '______' '\\n')\n",
        "\n",
        "y = np.array([[[1,2,3], [4,5,6]], [[7,8,9], [10,11,12]]])\n",
        "print('Y')\n",
        "print(y)\n",
        "print(type(y))\n",
        "print(y.shape)"
      ],
      "metadata": {
        "colab": {
          "base_uri": "https://localhost:8080/"
        },
        "id": "p_Vsh3Z-KXnS",
        "outputId": "c90357dc-9b79-4517-fa66-270af692498b"
      },
      "execution_count": null,
      "outputs": [
        {
          "output_type": "stream",
          "name": "stdout",
          "text": [
            "X\n",
            "[[1 2 3]\n",
            " [4 5 6]]\n",
            "<class 'numpy.ndarray'>\n",
            "(2, 3)\n",
            "\n",
            " ______\n",
            "\n",
            "Y\n",
            "[[[ 1  2  3]\n",
            "  [ 4  5  6]]\n",
            "\n",
            " [[ 7  8  9]\n",
            "  [10 11 12]]]\n",
            "<class 'numpy.ndarray'>\n",
            "(2, 2, 3)\n"
          ]
        }
      ]
    },
    {
      "cell_type": "code",
      "source": [
        "# array의 형식을 제시하고 인자가 모두 1인 array 만들기\n",
        "\n",
        "x = np.ones([2, 2, 3])\n",
        "print(x)\n",
        "print(type(x))\n",
        "print(x.shape)\n",
        "\n",
        "\n",
        "print('\\n', '________', '\\n')\n",
        "\n",
        "# array의 형식을 제시하고 인자가 모두 0인 array 만들기\n",
        "\n",
        "y = np.zeros([3, 2, 3])\n",
        "print(y)\n",
        "print(type(y))\n",
        "print(y.shape)"
      ],
      "metadata": {
        "colab": {
          "base_uri": "https://localhost:8080/"
        },
        "id": "MyV5kA-9MAAr",
        "outputId": "1ec3c184-c686-47f0-eafc-38a66dd7fe1e"
      },
      "execution_count": null,
      "outputs": [
        {
          "output_type": "stream",
          "name": "stdout",
          "text": [
            "[[[1. 1. 1.]\n",
            "  [1. 1. 1.]]\n",
            "\n",
            " [[1. 1. 1.]\n",
            "  [1. 1. 1.]]]\n",
            "<class 'numpy.ndarray'>\n",
            "(2, 2, 3)\n",
            "\n",
            " ________ \n",
            "\n",
            "[[[0. 0. 0.]\n",
            "  [0. 0. 0.]]\n",
            "\n",
            " [[0. 0. 0.]\n",
            "  [0. 0. 0.]]\n",
            "\n",
            " [[0. 0. 0.]\n",
            "  [0. 0. 0.]]]\n",
            "<class 'numpy.ndarray'>\n",
            "(3, 2, 3)\n"
          ]
        }
      ]
    },
    {
      "cell_type": "markdown",
      "source": [
        "###**Create random numbers**\n",
        "\n",
        "- normal(평균, 표준편차, shape of array): Normal distribution의 ndarray 만들기"
      ],
      "metadata": {
        "id": "7R8btQt5Mkuu"
      }
    },
    {
      "cell_type": "code",
      "source": [
        "np.random.normal(0, 1, [2, 3, 4])"
      ],
      "metadata": {
        "colab": {
          "base_uri": "https://localhost:8080/"
        },
        "id": "18TLPuYjMoiW",
        "outputId": "d413ff75-99d0-4ce0-e735-0613c0f5c87d"
      },
      "execution_count": null,
      "outputs": [
        {
          "output_type": "execute_result",
          "data": {
            "text/plain": [
              "array([[[ 0.11982325,  0.43862151,  1.68746959,  1.70920028],\n",
              "        [-0.29207079, -0.5184103 , -0.90796913,  0.30632822],\n",
              "        [-0.87403218, -0.0091204 ,  2.17662361, -0.65074515]],\n",
              "\n",
              "       [[-1.50867651,  0.71143403,  0.12490242, -0.74558633],\n",
              "        [ 0.18346094, -0.08642537,  0.21636524, -2.0101787 ],\n",
              "        [-1.2219313 , -0.28506893,  0.02101323,  0.32229812]]])"
            ]
          },
          "metadata": {},
          "execution_count": 28
        }
      ]
    },
    {
      "cell_type": "code",
      "source": [
        "# 1d array로 만들기\n",
        "\n",
        "import matplotlib.pyplot as plt\n",
        "\n",
        "x = np.random.normal(0, 1, 100)\n",
        "print(x)\n",
        "plt.hist(x, bins = 10)"
      ],
      "metadata": {
        "colab": {
          "base_uri": "https://localhost:8080/",
          "height": 825
        },
        "id": "4zmv7wcJNYOd",
        "outputId": "739fbbaa-2a50-42e8-9878-783cc9a4b55e"
      },
      "execution_count": null,
      "outputs": [
        {
          "output_type": "stream",
          "name": "stdout",
          "text": [
            "[ 1.08906947e+00  1.77914628e-01  1.09542345e+00  2.49811664e-01\n",
            " -1.12952202e+00 -6.55842272e-01  9.50104914e-01  2.68790279e-01\n",
            "  2.15351203e-01  1.73370130e+00 -8.91874171e-02 -1.11137723e-01\n",
            " -1.17474694e+00 -7.28123476e-02 -1.61299681e-01  2.37616857e-01\n",
            " -1.24318757e-01  1.61306121e+00  2.48910399e-02  1.30122762e+00\n",
            "  4.97451076e-01  4.34932549e-01 -1.34701031e+00  1.16923328e+00\n",
            "  2.76609899e-01 -4.26717843e-01 -1.35795559e+00  2.12952205e+00\n",
            "  2.46371899e-01  6.94202783e-01 -1.47496667e+00  3.31844896e-01\n",
            " -1.19784976e+00 -1.00840272e+00 -1.79994318e-02 -8.06465142e-01\n",
            " -2.70798816e-01 -5.79682527e-01 -4.10171506e-01 -1.09388010e+00\n",
            " -1.49452283e+00  1.43182252e+00  9.43129326e-01  1.02820454e+00\n",
            " -3.28155773e-01  7.59116299e-01  8.88862320e-01 -4.68778165e-01\n",
            "  1.04724501e-01  2.85650461e-02  6.16979857e-01 -7.08546771e-01\n",
            " -1.23330682e+00  1.33682184e-01  2.33408795e-01 -1.13434825e+00\n",
            "  3.64204240e-01 -7.34382617e-01 -9.57058695e-01  6.34470914e-01\n",
            "  2.50992639e+00  7.38839715e-02  3.11925886e-02  5.91699941e-01\n",
            " -3.81139926e+00 -1.77568903e+00  2.32654636e-01  6.78111799e-01\n",
            "  3.07935026e-01  7.91693192e-01 -1.38061738e-01 -5.51591627e-01\n",
            " -4.16956385e-01 -1.37943338e+00  1.06462187e-01 -1.30108453e-01\n",
            "  1.03747800e+00 -2.67192131e-02  1.38621034e-01  1.04914295e+00\n",
            " -9.74041323e-02 -1.24507635e+00  6.76048865e-01 -8.77222231e-01\n",
            " -1.56612860e+00 -2.04140179e+00 -1.06201410e+00  1.17547636e+00\n",
            "  1.01033912e+00  7.10148011e-01 -1.31034403e+00 -2.03876574e+00\n",
            " -5.15243702e-01 -3.49039945e-03  1.07947086e+00  6.06871798e-01\n",
            " -6.61892851e-01 -9.53564230e-01 -2.22149661e+00 -8.27986889e-02]\n"
          ]
        },
        {
          "output_type": "execute_result",
          "data": {
            "text/plain": [
              "(array([ 1.,  0.,  3.,  8., 17., 19., 26., 20.,  4.,  2.]),\n",
              " array([-3.81139926, -3.17926669, -2.54713413, -1.91500156, -1.282869  ,\n",
              "        -0.65073643, -0.01860387,  0.61352869,  1.24566126,  1.87779382,\n",
              "         2.50992639]),\n",
              " <a list of 10 Patch objects>)"
            ]
          },
          "metadata": {},
          "execution_count": 29
        },
        {
          "output_type": "display_data",
          "data": {
            "text/plain": [
              "<Figure size 432x288 with 1 Axes>"
            ],
            "image/png": "[encoded data removed]"
          },
          "metadata": {
            "needs_background": "light"
          }
        }
      ]
    },
    {
      "cell_type": "markdown",
      "source": [
        "_____________________"
      ],
      "metadata": {
        "id": "qmpYd9zuNvH9"
      }
    },
    {
      "cell_type": "markdown",
      "source": [
        "###**2. MATPLOTLIB**\n",
        "\n",
        "Visualization package with Python. \n",
        "\n",
        "Matplotlib is a comprehensive library for creating static, animated, and interactive ***visualizations*** in Python.\n",
        "\n",
        "도수분포표- frequency를 보여줌. option으로 세밀도 조정 가능) \n",
        "\n",
        "기둥 개수 정하려면 (n, bins=10) 이런 식으로. "
      ],
      "metadata": {
        "id": "cmcG6ar0_dDA"
      }
    },
    {
      "cell_type": "code",
      "source": [
        "import matplotlib"
      ],
      "metadata": {
        "id": "FqjBbrl6FDuw"
      },
      "execution_count": null,
      "outputs": []
    },
    {
      "cell_type": "code",
      "source": [
        "# Histogram(도수분포표, x=변수 y=개수)\n",
        "\n",
        "matplotlib.pyplot.hist(n)"
      ],
      "metadata": {
        "colab": {
          "base_uri": "https://localhost:8080/",
          "height": 359
        },
        "id": "yBoxsLc_FFk1",
        "outputId": "68a4e0b5-c4a8-45b0-9c2e-a9f7388ca9fb"
      },
      "execution_count": null,
      "outputs": [
        {
          "output_type": "execute_result",
          "data": {
            "text/plain": [
              "(array([ 4.,  3.,  9., 19., 18., 16., 20.,  8.,  2.,  1.]),\n",
              " array([-2.20419547, -1.75060397, -1.29701247, -0.84342097, -0.38982946,\n",
              "         0.06376204,  0.51735354,  0.97094504,  1.42453654,  1.87812804,\n",
              "         2.33171954]),\n",
              " <a list of 10 Patch objects>)"
            ]
          },
          "metadata": {},
          "execution_count": 10
        },
        {
          "output_type": "display_data",
          "data": {
            "text/plain": [
              "<Figure size 432x288 with 1 Axes>"
            ],
            "image/png": "[encoded data removed]"
          },
          "metadata": {
            "needs_background": "light"
          }
        }
      ]
    },
    {
      "cell_type": "markdown",
      "source": [
        "###**Generate a Sine Curve** "
      ],
      "metadata": {
        "id": "E8RZqSDtN_zD"
      }
    },
    {
      "cell_type": "code",
      "source": [
        "plt.figure()\n",
        "\n",
        "# 각도 만든 후 radian 값을 넣어 sine함수 그리기\n",
        "# linspace: 실행해보지 않고도 몇 개의 값이 나올지 알 수 있어야 함(100등분 => 몇 개?)\n",
        "\n",
        "theta1 = np.linspace(0, 2*np.pi, 100)\n",
        "s1 = np.sin(theta1) #입력값과 출력값의 개수는 동일할 것임 \n",
        "theta2 = np.linspace(0, 2*np.pi, 100) + np.pi/2\n",
        "s2 = np.sin(theta2)\n",
        "\n",
        "plt.subplot(2, 1, 1) #(rows, columns, panel number)\n",
        "plt.plot(theta1, s1, '.')\n",
        "plt.subplot(2, 1, 2)\n",
        "plt.plot(theta2, s2, '.')"
      ],
      "metadata": {
        "colab": {
          "base_uri": "https://localhost:8080/",
          "height": 284
        },
        "id": "KLjaKVMbFKty",
        "outputId": "a760681b-fb64-4c48-8f51-e6c8700c09d9"
      },
      "execution_count": null,
      "outputs": [
        {
          "output_type": "execute_result",
          "data": {
            "text/plain": [
              "[<matplotlib.lines.Line2D at 0x7f1907cc2e10>]"
            ]
          },
          "metadata": {},
          "execution_count": 34
        },
        {
          "output_type": "display_data",
          "data": {
            "text/plain": [
              "<Figure size 432x288 with 2 Axes>"
            ],
            "image/png": "[encoded data removed]"
          },
          "metadata": {
            "needs_background": "light"
          }
        }
      ]
    },
    {
      "cell_type": "code",
      "source": [
        "plt.subplot(3, 4, 3) #(rows, columns, panel number)\n",
        "plt.plot(theta1, s1, '.')"
      ],
      "metadata": {
        "colab": {
          "base_uri": "https://localhost:8080/",
          "height": 132
        },
        "id": "rIutQ_oUPo8g",
        "outputId": "0783053f-2d88-4b52-921e-e532d3a48589"
      },
      "execution_count": null,
      "outputs": [
        {
          "output_type": "execute_result",
          "data": {
            "text/plain": [
              "[<matplotlib.lines.Line2D at 0x7f1907cb9110>]"
            ]
          },
          "metadata": {},
          "execution_count": 33
        },
        {
          "output_type": "display_data",
          "data": {
            "text/plain": [
              "<Figure size 432x288 with 1 Axes>"
            ],
            "image/png": "[encoded data removed]"
          },
          "metadata": {
            "needs_background": "light"
          }
        }
      ]
    },
    {
      "cell_type": "markdown",
      "source": [
        "###**Correlation**\n",
        "\n",
        "- 비례한다: correlation, coefficient.\n",
        "- -1 =< r =< 1 (negative면 반비례, positive면 비례\n",
        "- 상관관계 높을수록 r이 1에 가까워지며, 그래프의 모양이 하나의 직선에 더욱 수렴(thin해짐)"
      ],
      "metadata": {
        "id": "eHhzVrrSQH-X"
      }
    },
    {
      "cell_type": "code",
      "source": [
        "np.corrcoef(s1, s2)\n",
        "\n",
        "# correlation이 2.419 * 10^(-17) = 2.419.. * 0 = 0"
      ],
      "metadata": {
        "colab": {
          "base_uri": "https://localhost:8080/"
        },
        "id": "OWmj8i-1QEXr",
        "outputId": "10acae59-01a3-443d-e23e-c8ba5d1e5248"
      },
      "execution_count": null,
      "outputs": [
        {
          "output_type": "execute_result",
          "data": {
            "text/plain": [
              "array([[1.00000000e+00, 2.41915449e-17],\n",
              "       [2.41915449e-17, 1.00000000e+00]])"
            ]
          },
          "metadata": {},
          "execution_count": 37
        }
      ]
    },
    {
      "cell_type": "markdown",
      "source": [
        ""
      ],
      "metadata": {
        "id": "96R3kVCF_Nd3"
      }
    }
  ]
}